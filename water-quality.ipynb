{
 "cells": [
  {
   "cell_type": "code",
   "execution_count": null,
   "metadata": {
    "_cell_guid": "b1076dfc-b9ad-4769-8c92-a6c4dae69d19",
    "_uuid": "8f2839f25d086af736a60e9eeb907d3b93b6e0e5",
    "execution": {
     "iopub.execute_input": "2021-08-24T14:26:38.123894Z",
     "iopub.status.busy": "2021-08-24T14:26:38.123488Z",
     "iopub.status.idle": "2021-08-24T14:26:41.243959Z",
     "shell.execute_reply": "2021-08-24T14:26:41.242853Z",
     "shell.execute_reply.started": "2021-08-24T14:26:38.123803Z"
    },
    "trusted": true
   },
   "outputs": [],
   "source": [
    "# This Python 3 environment comes with many helpful analytics libraries installed\n",
    "# It is defined by the kaggle/python Docker image: https://github.com/kaggle/docker-python\n",
    "# For example, here's several helpful packages to load\n",
    "import matplotlib.pyplot as plt\n",
    "import seaborn as sns\n",
    "import numpy as np\n",
    "from tqdm.notebook import tqdm\n",
    "import math  # for integer ceiling\n",
    "\n",
    "def distributionPlot(data):\n",
    "    \"\"\"Creates distribution plots for all features in the DataFrame.\"\"\"\n",
    "    num_cols = len(data.columns)\n",
    "    num_rows = math.ceil(num_cols / 3)  # ensures integer type\n",
    "\n",
    "    fig = plt.figure(figsize=(20, 5 * num_rows))\n",
    "\n",
    "    for i in tqdm(range(num_cols)):\n",
    "        ax = fig.add_subplot(num_rows, 3, i + 1)\n",
    "        sns.histplot(data.iloc[:, i], color=\"lightcoral\", kde=True, ax=ax)\n",
    "        ax.set_title(data.columns[i])\n",
    "        fig.tight_layout(pad=3.0)\n",
    "    plt.show()\n",
    "\n",
    "# Usage\n",
    "plot_data = data.drop(['Potability'], axis=1)\n",
    "distributionPlot(plot_data)\n",
    "\n",
    "# You can write up to 20GB to the current directory (/kaggle/working/) that gets preserved as output when you create a version using \"Save & Run All\" \n",
    "# You can also write temporary files to /kaggle/temp/, but they won't be saved outside of the current session"
   ]
  },
  {
   "cell_type": "code",
   "execution_count": null,
   "metadata": {
    "execution": {
     "iopub.execute_input": "2021-08-24T14:26:41.245729Z",
     "iopub.status.busy": "2021-08-24T14:26:41.245440Z",
     "iopub.status.idle": "2021-08-24T14:26:41.316727Z",
     "shell.execute_reply": "2021-08-24T14:26:41.315817Z",
     "shell.execute_reply.started": "2021-08-24T14:26:41.245688Z"
    },
    "trusted": true
   },
   "outputs": [],
   "source": [
    "data = pd.read_csv('water_potability.csv')\n",
    "data.head()"
   ]
  },
  {
   "cell_type": "markdown",
   "metadata": {},
   "source": [
    "# EDA"
   ]
  },
  {
   "cell_type": "markdown",
   "metadata": {},
   "source": [
    "* ph-> pH of water\n",
    "* Hardness-> Capacity of water to precipitate soap in mg/L\n",
    "* Solids-> Total dissolved solids in ppm\n",
    "* Chloramines-> Amount of Chloramines in ppm\n",
    "* Sulfate-> Amount of Sulfates dissolved in mg/L\n",
    "* Conductivity-> Electrical conductivity of water in μS/cm\n",
    "* Organic_carbon-> Amount of organic carbon in ppm\n",
    "* Trihalomethanes-> Amount of Trihalomethanes in μg/L\n",
    "* Turbidity-> Measure of light emiting property of water in NTU (Nephelometric Turbidity Units)\n",
    "* Potability-> Indicates if water is safe for human consumption"
   ]
  },
  {
   "cell_type": "code",
   "execution_count": null,
   "metadata": {
    "execution": {
     "iopub.execute_input": "2021-08-24T14:26:41.319329Z",
     "iopub.status.busy": "2021-08-24T14:26:41.318896Z",
     "iopub.status.idle": "2021-08-24T14:26:41.361550Z",
     "shell.execute_reply": "2021-08-24T14:26:41.360801Z",
     "shell.execute_reply.started": "2021-08-24T14:26:41.319289Z"
    },
    "trusted": true
   },
   "outputs": [],
   "source": [
    "data.describe()"
   ]
  },
  {
   "cell_type": "code",
   "execution_count": null,
   "metadata": {
    "execution": {
     "iopub.execute_input": "2021-08-24T14:26:41.363140Z",
     "iopub.status.busy": "2021-08-24T14:26:41.362902Z",
     "iopub.status.idle": "2021-08-24T14:26:41.379517Z",
     "shell.execute_reply": "2021-08-24T14:26:41.378743Z",
     "shell.execute_reply.started": "2021-08-24T14:26:41.363116Z"
    },
    "trusted": true
   },
   "outputs": [],
   "source": [
    "data.info()"
   ]
  },
  {
   "cell_type": "code",
   "execution_count": null,
   "metadata": {
    "execution": {
     "iopub.execute_input": "2021-08-24T14:26:41.380805Z",
     "iopub.status.busy": "2021-08-24T14:26:41.380533Z",
     "iopub.status.idle": "2021-08-24T14:26:41.385976Z",
     "shell.execute_reply": "2021-08-24T14:26:41.384932Z",
     "shell.execute_reply.started": "2021-08-24T14:26:41.380777Z"
    },
    "trusted": true
   },
   "outputs": [],
   "source": [
    "print('There are {} data points and {} features in the data'.format(data.shape[0],data.shape[1]))"
   ]
  },
  {
   "cell_type": "markdown",
   "metadata": {},
   "source": [
    "## Null Values"
   ]
  },
  {
   "cell_type": "code",
   "execution_count": null,
   "metadata": {
    "execution": {
     "iopub.execute_input": "2021-08-24T14:26:41.387377Z",
     "iopub.status.busy": "2021-08-24T14:26:41.387132Z",
     "iopub.status.idle": "2021-08-24T14:26:41.644757Z",
     "shell.execute_reply": "2021-08-24T14:26:41.643874Z",
     "shell.execute_reply.started": "2021-08-24T14:26:41.387353Z"
    },
    "trusted": true
   },
   "outputs": [],
   "source": [
    "sns.heatmap(data.isnull(),yticklabels=False,cbar=False,cmap='viridis')"
   ]
  },
  {
   "cell_type": "code",
   "execution_count": null,
   "metadata": {
    "execution": {
     "iopub.execute_input": "2021-08-24T14:26:41.646493Z",
     "iopub.status.busy": "2021-08-24T14:26:41.646129Z",
     "iopub.status.idle": "2021-08-24T14:26:41.656642Z",
     "shell.execute_reply": "2021-08-24T14:26:41.655686Z",
     "shell.execute_reply.started": "2021-08-24T14:26:41.646463Z"
    },
    "trusted": true
   },
   "outputs": [],
   "source": [
    "for i in data.columns:\n",
    "    if data[i].isnull().sum()>0:\n",
    "        print(\"There are {} null values in {} column\".format(data[i].isnull().sum(),i))"
   ]
  },
  {
   "cell_type": "markdown",
   "metadata": {},
   "source": [
    "## Handling Null Values"
   ]
  },
  {
   "cell_type": "markdown",
   "metadata": {},
   "source": [
    "### PH"
   ]
  },
  {
   "cell_type": "code",
   "execution_count": null,
   "metadata": {
    "execution": {
     "iopub.execute_input": "2021-08-24T14:26:41.659924Z",
     "iopub.status.busy": "2021-08-24T14:26:41.659343Z",
     "iopub.status.idle": "2021-08-24T14:26:41.672740Z",
     "shell.execute_reply": "2021-08-24T14:26:41.671982Z",
     "shell.execute_reply.started": "2021-08-24T14:26:41.659884Z"
    },
    "trusted": true
   },
   "outputs": [],
   "source": [
    "data['ph'].describe()"
   ]
  },
  {
   "cell_type": "markdown",
   "metadata": {},
   "source": [
    "Filling the missing values by mean"
   ]
  },
  {
   "cell_type": "code",
   "execution_count": null,
   "metadata": {
    "execution": {
     "iopub.execute_input": "2021-08-24T14:26:41.674326Z",
     "iopub.status.busy": "2021-08-24T14:26:41.674003Z",
     "iopub.status.idle": "2021-08-24T14:26:41.679448Z",
     "shell.execute_reply": "2021-08-24T14:26:41.678452Z",
     "shell.execute_reply.started": "2021-08-24T14:26:41.674301Z"
    },
    "trusted": true
   },
   "outputs": [],
   "source": [
    "data['ph_mean']=data['ph'].fillna(data['ph'].mean())"
   ]
  },
  {
   "cell_type": "code",
   "execution_count": null,
   "metadata": {
    "execution": {
     "iopub.execute_input": "2021-08-24T14:26:41.681254Z",
     "iopub.status.busy": "2021-08-24T14:26:41.680905Z",
     "iopub.status.idle": "2021-08-24T14:26:41.691070Z",
     "shell.execute_reply": "2021-08-24T14:26:41.690137Z",
     "shell.execute_reply.started": "2021-08-24T14:26:41.681219Z"
    },
    "trusted": true
   },
   "outputs": [],
   "source": [
    "data['ph_mean'].isnull().sum()"
   ]
  },
  {
   "cell_type": "code",
   "execution_count": null,
   "metadata": {
    "execution": {
     "iopub.execute_input": "2021-08-24T14:26:41.692528Z",
     "iopub.status.busy": "2021-08-24T14:26:41.692157Z",
     "iopub.status.idle": "2021-08-24T14:26:42.142186Z",
     "shell.execute_reply": "2021-08-24T14:26:42.141377Z",
     "shell.execute_reply.started": "2021-08-24T14:26:41.692491Z"
    },
    "trusted": true
   },
   "outputs": [],
   "source": [
    "fig = plt.figure()\n",
    "ax = fig.add_subplot(111)\n",
    "data['ph'].plot(kind='kde', ax=ax)\n",
    "data.ph_mean.plot(kind='kde', ax=ax, color='red')\n",
    "lines, labels = ax.get_legend_handles_labels()\n",
    "ax.legend(lines, labels, loc='best')\n",
    "plt.show()"
   ]
  },
  {
   "cell_type": "markdown",
   "metadata": {},
   "source": [
    "#### The distribution is not uniform"
   ]
  },
  {
   "cell_type": "markdown",
   "metadata": {},
   "source": [
    "Filling the data with random values"
   ]
  },
  {
   "cell_type": "code",
   "execution_count": null,
   "metadata": {
    "execution": {
     "iopub.execute_input": "2021-08-24T14:26:42.144069Z",
     "iopub.status.busy": "2021-08-24T14:26:42.143682Z",
     "iopub.status.idle": "2021-08-24T14:26:42.149055Z",
     "shell.execute_reply": "2021-08-24T14:26:42.148446Z",
     "shell.execute_reply.started": "2021-08-24T14:26:42.144029Z"
    },
    "trusted": true
   },
   "outputs": [],
   "source": [
    "def impute_nan(df,variable):\n",
    "    df[variable+\"_random\"]=df[variable]\n",
    "    ##It will have the random sample to fill the na\n",
    "    random_sample=df[variable].dropna().sample(df[variable].isnull().sum(),random_state=0)\n",
    "    ##pandas need to have same index in order to merge the dataset\n",
    "    random_sample.index=df[df[variable].isnull()].index\n",
    "    df.loc[df[variable].isnull(),variable+'_random']=random_sample"
   ]
  },
  {
   "cell_type": "code",
   "execution_count": null,
   "metadata": {
    "execution": {
     "iopub.execute_input": "2021-08-24T14:26:42.150201Z",
     "iopub.status.busy": "2021-08-24T14:26:42.149880Z",
     "iopub.status.idle": "2021-08-24T14:26:42.168746Z",
     "shell.execute_reply": "2021-08-24T14:26:42.167923Z",
     "shell.execute_reply.started": "2021-08-24T14:26:42.150177Z"
    },
    "trusted": true
   },
   "outputs": [],
   "source": [
    "impute_nan(data,\"ph\")"
   ]
  },
  {
   "cell_type": "code",
   "execution_count": null,
   "metadata": {
    "execution": {
     "iopub.execute_input": "2021-08-24T14:26:42.170134Z",
     "iopub.status.busy": "2021-08-24T14:26:42.169884Z",
     "iopub.status.idle": "2021-08-24T14:26:42.563026Z",
     "shell.execute_reply": "2021-08-24T14:26:42.562248Z",
     "shell.execute_reply.started": "2021-08-24T14:26:42.170098Z"
    },
    "trusted": true
   },
   "outputs": [],
   "source": [
    "fig = plt.figure()\n",
    "ax = fig.add_subplot(111)\n",
    "data['ph'].plot(kind='kde', ax=ax)\n",
    "data.ph_random.plot(kind='kde', ax=ax, color='green')\n",
    "data.ph_mean.plot(kind='kde', ax=ax, color='red')\n",
    "lines, labels = ax.get_legend_handles_labels()\n",
    "ax.legend(lines, labels, loc='best')\n",
    "plt.show()"
   ]
  },
  {
   "cell_type": "markdown",
   "metadata": {},
   "source": [
    "Uniform distribution with random initialization"
   ]
  },
  {
   "cell_type": "code",
   "execution_count": null,
   "metadata": {
    "execution": {
     "iopub.execute_input": "2021-08-24T14:26:42.564330Z",
     "iopub.status.busy": "2021-08-24T14:26:42.564086Z",
     "iopub.status.idle": "2021-08-24T14:26:42.570999Z",
     "shell.execute_reply": "2021-08-24T14:26:42.570295Z",
     "shell.execute_reply.started": "2021-08-24T14:26:42.564306Z"
    },
    "trusted": true
   },
   "outputs": [],
   "source": [
    "impute_nan(data,\"Sulfate\")"
   ]
  },
  {
   "cell_type": "code",
   "execution_count": null,
   "metadata": {
    "execution": {
     "iopub.execute_input": "2021-08-24T14:26:42.572225Z",
     "iopub.status.busy": "2021-08-24T14:26:42.571980Z",
     "iopub.status.idle": "2021-08-24T14:26:42.877858Z",
     "shell.execute_reply": "2021-08-24T14:26:42.876945Z",
     "shell.execute_reply.started": "2021-08-24T14:26:42.572201Z"
    },
    "trusted": true
   },
   "outputs": [],
   "source": [
    "fig = plt.figure()\n",
    "ax = fig.add_subplot(111)\n",
    "data['Sulfate'].plot(kind='kde', ax=ax)\n",
    "data[\"Sulfate_random\"].plot(kind='kde', ax=ax, color='green')\n",
    "#data.ph_mean.plot(kind='kde', ax=ax, color='red')\n",
    "lines, labels = ax.get_legend_handles_labels()\n",
    "ax.legend(lines, labels, loc='best')\n",
    "plt.show()"
   ]
  },
  {
   "cell_type": "code",
   "execution_count": null,
   "metadata": {
    "execution": {
     "iopub.execute_input": "2021-08-24T14:26:42.882404Z",
     "iopub.status.busy": "2021-08-24T14:26:42.881921Z",
     "iopub.status.idle": "2021-08-24T14:26:42.889961Z",
     "shell.execute_reply": "2021-08-24T14:26:42.889298Z",
     "shell.execute_reply.started": "2021-08-24T14:26:42.882365Z"
    },
    "trusted": true
   },
   "outputs": [],
   "source": [
    "impute_nan(data,\"Trihalomethanes\")"
   ]
  },
  {
   "cell_type": "code",
   "execution_count": null,
   "metadata": {
    "execution": {
     "iopub.execute_input": "2021-08-24T14:26:42.892494Z",
     "iopub.status.busy": "2021-08-24T14:26:42.891981Z",
     "iopub.status.idle": "2021-08-24T14:26:43.224337Z",
     "shell.execute_reply": "2021-08-24T14:26:43.223649Z",
     "shell.execute_reply.started": "2021-08-24T14:26:42.892455Z"
    },
    "trusted": true
   },
   "outputs": [],
   "source": [
    "fig = plt.figure()\n",
    "ax = fig.add_subplot(111)\n",
    "data['Trihalomethanes'].plot(kind='kde', ax=ax)\n",
    "data.Trihalomethanes_random.plot(kind='kde', ax=ax, color='green')\n",
    "lines, labels = ax.get_legend_handles_labels()\n",
    "ax.legend(lines, labels, loc='best')\n",
    "plt.show()"
   ]
  },
  {
   "cell_type": "code",
   "execution_count": null,
   "metadata": {
    "execution": {
     "iopub.execute_input": "2021-08-24T14:26:43.225844Z",
     "iopub.status.busy": "2021-08-24T14:26:43.225468Z",
     "iopub.status.idle": "2021-08-24T14:26:43.230271Z",
     "shell.execute_reply": "2021-08-24T14:26:43.229650Z",
     "shell.execute_reply.started": "2021-08-24T14:26:43.225816Z"
    },
    "trusted": true
   },
   "outputs": [],
   "source": [
    "data=data.drop(['ph','Sulfate','Trihalomethanes','ph_mean'],axis=1)"
   ]
  },
  {
   "cell_type": "code",
   "execution_count": null,
   "metadata": {
    "execution": {
     "iopub.execute_input": "2021-08-24T14:26:43.231277Z",
     "iopub.status.busy": "2021-08-24T14:26:43.231037Z",
     "iopub.status.idle": "2021-08-24T14:26:43.246217Z",
     "shell.execute_reply": "2021-08-24T14:26:43.245274Z",
     "shell.execute_reply.started": "2021-08-24T14:26:43.231253Z"
    },
    "trusted": true
   },
   "outputs": [],
   "source": [
    "data.isnull().sum()"
   ]
  },
  {
   "cell_type": "markdown",
   "metadata": {},
   "source": [
    "## Check for Correlation"
   ]
  },
  {
   "cell_type": "code",
   "execution_count": null,
   "metadata": {
    "execution": {
     "iopub.execute_input": "2021-08-24T14:26:43.247493Z",
     "iopub.status.busy": "2021-08-24T14:26:43.247216Z",
     "iopub.status.idle": "2021-08-24T14:26:43.865006Z",
     "shell.execute_reply": "2021-08-24T14:26:43.864248Z",
     "shell.execute_reply.started": "2021-08-24T14:26:43.247467Z"
    },
    "trusted": true
   },
   "outputs": [],
   "source": [
    "plt.figure(figsize=(20, 17))\n",
    "matrix = np.triu(data.corr())\n",
    "sns.heatmap(data.corr(), annot=True,linewidth=.8, mask=matrix, cmap=\"rocket\",cbar=False);"
   ]
  },
  {
   "cell_type": "markdown",
   "metadata": {},
   "source": [
    "There are no correlated columns presebt in the data"
   ]
  },
  {
   "cell_type": "code",
   "execution_count": null,
   "metadata": {
    "execution": {
     "iopub.execute_input": "2021-08-24T14:26:43.866446Z",
     "iopub.status.busy": "2021-08-24T14:26:43.866061Z",
     "iopub.status.idle": "2021-08-24T14:27:19.627863Z",
     "shell.execute_reply": "2021-08-24T14:27:19.626582Z",
     "shell.execute_reply.started": "2021-08-24T14:26:43.866408Z"
    },
    "trusted": true
   },
   "outputs": [],
   "source": [
    "sns.pairplot(data, hue=\"Potability\", palette=\"husl\");"
   ]
  },
  {
   "cell_type": "code",
   "execution_count": null,
   "metadata": {
    "execution": {
     "iopub.execute_input": "2021-08-24T14:27:19.629460Z",
     "iopub.status.busy": "2021-08-24T14:27:19.629166Z",
     "iopub.status.idle": "2021-08-24T14:27:24.347219Z",
     "shell.execute_reply": "2021-08-24T14:27:24.346248Z",
     "shell.execute_reply.started": "2021-08-24T14:27:19.629429Z"
    },
    "trusted": true
   },
   "outputs": [],
   "source": [
    "def distributionPlot(data):\n",
    "    \"\"\" \n",
    "    Creates distribution plot.\n",
    "    \"\"\"\n",
    "    fig = plt.figure(figsize=(20, 20))\n",
    "    for i in tqdm_notebook(range(0, len(data.columns))):\n",
    "        fig.add_subplot(int(np.ceil(len(data.columns)/3)), 3, i+1)\n",
    "        sns.distplot(\n",
    "         data.iloc[:, i], color=\"lightcoral\", rug=True)\n",
    "        fig.tight_layout(pad=3.0)\n",
    "plot_data = data.drop(['Potability'], axis =1)\n",
    "distributionPlot(plot_data)"
   ]
  },
  {
   "cell_type": "markdown",
   "metadata": {},
   "source": [
    "# Hardness"
   ]
  },
  {
   "cell_type": "code",
   "execution_count": null,
   "metadata": {
    "execution": {
     "iopub.execute_input": "2021-08-24T14:27:24.348983Z",
     "iopub.status.busy": "2021-08-24T14:27:24.348483Z",
     "iopub.status.idle": "2021-08-24T14:27:24.360416Z",
     "shell.execute_reply": "2021-08-24T14:27:24.359697Z",
     "shell.execute_reply.started": "2021-08-24T14:27:24.348945Z"
    },
    "trusted": true
   },
   "outputs": [],
   "source": [
    "data['Hardness'].describe()"
   ]
  },
  {
   "cell_type": "code",
   "execution_count": null,
   "metadata": {
    "execution": {
     "iopub.execute_input": "2021-08-24T14:27:24.363401Z",
     "iopub.status.busy": "2021-08-24T14:27:24.363149Z",
     "iopub.status.idle": "2021-08-24T14:27:24.632298Z",
     "shell.execute_reply": "2021-08-24T14:27:24.631673Z",
     "shell.execute_reply.started": "2021-08-24T14:27:24.363375Z"
    },
    "trusted": true
   },
   "outputs": [],
   "source": [
    "plt.figure(figsize = (16, 7))\n",
    "sns.distplot(data['Hardness'])\n",
    "plt.title('Distribution Plot of Hardness\\n', fontsize =  20)\n",
    "plt.show()"
   ]
  },
  {
   "cell_type": "code",
   "execution_count": null,
   "metadata": {
    "execution": {
     "iopub.execute_input": "2021-08-24T14:27:24.633727Z",
     "iopub.status.busy": "2021-08-24T14:27:24.633328Z",
     "iopub.status.idle": "2021-08-24T14:27:25.545135Z",
     "shell.execute_reply": "2021-08-24T14:27:25.544120Z",
     "shell.execute_reply.started": "2021-08-24T14:27:24.633686Z"
    },
    "trusted": true
   },
   "outputs": [],
   "source": [
    "# basic scatter plot\n",
    "fig = px.scatter(data,range(data['Hardness'].count()), sorted(data['Hardness']),\n",
    "                 color=data['Potability'],\n",
    "                 labels={\n",
    "                     'x': \"Count\",\n",
    "                     'y': \"Hardness\",\n",
    "                     'color':'Potability'\n",
    "                     \n",
    "                 }, template = 'plotly_dark')\n",
    "fig.update_layout(title='Hardness wrt Potability')\n",
    "fig.show()"
   ]
  },
  {
   "cell_type": "code",
   "execution_count": null,
   "metadata": {
    "execution": {
     "iopub.execute_input": "2021-08-24T14:27:25.548094Z",
     "iopub.status.busy": "2021-08-24T14:27:25.547828Z",
     "iopub.status.idle": "2021-08-24T14:27:25.694129Z",
     "shell.execute_reply": "2021-08-24T14:27:25.693210Z",
     "shell.execute_reply.started": "2021-08-24T14:27:25.548065Z"
    },
    "trusted": true
   },
   "outputs": [],
   "source": [
    "px.histogram(data_frame = data, x = 'Hardness', nbins = 10, color = 'Potability', marginal = 'box',\n",
    "             template = 'plotly_dark')"
   ]
  },
  {
   "cell_type": "markdown",
   "metadata": {},
   "source": [
    "# Solids"
   ]
  },
  {
   "cell_type": "code",
   "execution_count": null,
   "metadata": {
    "execution": {
     "iopub.execute_input": "2021-08-24T14:27:25.696764Z",
     "iopub.status.busy": "2021-08-24T14:27:25.696381Z",
     "iopub.status.idle": "2021-08-24T14:27:25.706764Z",
     "shell.execute_reply": "2021-08-24T14:27:25.705791Z",
     "shell.execute_reply.started": "2021-08-24T14:27:25.696697Z"
    },
    "trusted": true
   },
   "outputs": [],
   "source": [
    "data['Solids'].describe()"
   ]
  },
  {
   "cell_type": "code",
   "execution_count": null,
   "metadata": {
    "execution": {
     "iopub.execute_input": "2021-08-24T14:27:25.707903Z",
     "iopub.status.busy": "2021-08-24T14:27:25.707649Z",
     "iopub.status.idle": "2021-08-24T14:27:25.955223Z",
     "shell.execute_reply": "2021-08-24T14:27:25.954367Z",
     "shell.execute_reply.started": "2021-08-24T14:27:25.707879Z"
    },
    "trusted": true
   },
   "outputs": [],
   "source": [
    "plt.figure(figsize = (16, 7))\n",
    "sns.distplot(data['Solids'])\n",
    "plt.title('Distribution Plot of Solids\\n', fontsize =  20)\n",
    "plt.show()"
   ]
  },
  {
   "cell_type": "code",
   "execution_count": null,
   "metadata": {
    "execution": {
     "iopub.execute_input": "2021-08-24T14:27:25.956585Z",
     "iopub.status.busy": "2021-08-24T14:27:25.956331Z",
     "iopub.status.idle": "2021-08-24T14:27:26.089055Z",
     "shell.execute_reply": "2021-08-24T14:27:26.088121Z",
     "shell.execute_reply.started": "2021-08-24T14:27:25.956559Z"
    },
    "trusted": true
   },
   "outputs": [],
   "source": [
    "fig = px.scatter(data, sorted(data[\"Solids\"]), range(data[\"Solids\"].count()), color=\"Potability\", facet_col=\"Potability\", \n",
    "                 facet_row=\"Potability\")\n",
    "fig.show()"
   ]
  },
  {
   "cell_type": "code",
   "execution_count": null,
   "metadata": {
    "execution": {
     "iopub.execute_input": "2021-08-24T14:27:26.090461Z",
     "iopub.status.busy": "2021-08-24T14:27:26.090214Z",
     "iopub.status.idle": "2021-08-24T14:27:26.180221Z",
     "shell.execute_reply": "2021-08-24T14:27:26.179414Z",
     "shell.execute_reply.started": "2021-08-24T14:27:26.090436Z"
    },
    "trusted": true
   },
   "outputs": [],
   "source": [
    "px.histogram(data_frame = data, x = 'Solids', nbins = 10, color = 'Potability', marginal = 'box',\n",
    "             template = 'plotly_dark')"
   ]
  },
  {
   "cell_type": "code",
   "execution_count": null,
   "metadata": {
    "execution": {
     "iopub.execute_input": "2021-08-24T14:27:26.181602Z",
     "iopub.status.busy": "2021-08-24T14:27:26.181366Z",
     "iopub.status.idle": "2021-08-24T14:27:26.424093Z",
     "shell.execute_reply": "2021-08-24T14:27:26.423222Z",
     "shell.execute_reply.started": "2021-08-24T14:27:26.181578Z"
    },
    "trusted": true
   },
   "outputs": [],
   "source": [
    "# basic scatter plot\n",
    "fig = px.scatter(data,range(data['Solids'].count()), sorted(data['Solids']),\n",
    "                 color=data['Potability'],\n",
    "                 labels={\n",
    "                     'x': \"Count\",\n",
    "                     'y': \"Hardness\",\n",
    "                     'color':'Potability'\n",
    "                     \n",
    "                 },\n",
    "                 color_continuous_scale=px.colors.sequential.tempo,\n",
    "                 template = 'plotly_dark')\n",
    "fig.update_layout(title='Hardness wrt Potability')\n",
    "fig.show()"
   ]
  },
  {
   "cell_type": "markdown",
   "metadata": {},
   "source": [
    "# Chloramines"
   ]
  },
  {
   "cell_type": "code",
   "execution_count": null,
   "metadata": {
    "execution": {
     "iopub.execute_input": "2021-08-24T14:27:26.425873Z",
     "iopub.status.busy": "2021-08-24T14:27:26.425508Z",
     "iopub.status.idle": "2021-08-24T14:27:26.436629Z",
     "shell.execute_reply": "2021-08-24T14:27:26.435639Z",
     "shell.execute_reply.started": "2021-08-24T14:27:26.425837Z"
    },
    "trusted": true
   },
   "outputs": [],
   "source": [
    "data['Chloramines'].describe()"
   ]
  },
  {
   "cell_type": "code",
   "execution_count": null,
   "metadata": {
    "execution": {
     "iopub.execute_input": "2021-08-24T14:27:26.438514Z",
     "iopub.status.busy": "2021-08-24T14:27:26.438110Z",
     "iopub.status.idle": "2021-08-24T14:27:26.695563Z",
     "shell.execute_reply": "2021-08-24T14:27:26.694743Z",
     "shell.execute_reply.started": "2021-08-24T14:27:26.438475Z"
    },
    "trusted": true
   },
   "outputs": [],
   "source": [
    "plt.figure(figsize = (16, 7))\n",
    "sns.distplot(data['Chloramines'])\n",
    "plt.title('Distribution Plot of Chloramines\\n', fontsize =  20)\n",
    "plt.show()"
   ]
  },
  {
   "cell_type": "code",
   "execution_count": null,
   "metadata": {
    "execution": {
     "iopub.execute_input": "2021-08-24T14:27:26.696986Z",
     "iopub.status.busy": "2021-08-24T14:27:26.696723Z",
     "iopub.status.idle": "2021-08-24T14:27:26.778490Z",
     "shell.execute_reply": "2021-08-24T14:27:26.777646Z",
     "shell.execute_reply.started": "2021-08-24T14:27:26.696956Z"
    },
    "trusted": true
   },
   "outputs": [],
   "source": [
    "fig = px.line(x=range(data['Chloramines'].count()), y=sorted(data['Chloramines']),color=data['Potability'], labels={\n",
    "                     'x': \"Count\",\n",
    "                     'y': \"Chloramines\",\n",
    "                     'color':'Potability'\n",
    "                     \n",
    "                 }, template = 'plotly_dark')\n",
    "fig.update_layout(title='Chloramines wrt Potability')\n",
    "fig.show()"
   ]
  },
  {
   "cell_type": "code",
   "execution_count": null,
   "metadata": {
    "execution": {
     "iopub.execute_input": "2021-08-24T14:27:26.779970Z",
     "iopub.status.busy": "2021-08-24T14:27:26.779692Z",
     "iopub.status.idle": "2021-08-24T14:27:26.841299Z",
     "shell.execute_reply": "2021-08-24T14:27:26.840442Z",
     "shell.execute_reply.started": "2021-08-24T14:27:26.779942Z"
    },
    "trusted": true
   },
   "outputs": [],
   "source": [
    "fig = px.box(x = 'Chloramines', data_frame = data, template = 'plotly_dark')\n",
    "fig.update_layout(title='Chloramines')\n",
    "fig.show()"
   ]
  },
  {
   "cell_type": "markdown",
   "metadata": {},
   "source": [
    "# Conductivity"
   ]
  },
  {
   "cell_type": "code",
   "execution_count": null,
   "metadata": {
    "execution": {
     "iopub.execute_input": "2021-08-24T14:27:26.842572Z",
     "iopub.status.busy": "2021-08-24T14:27:26.842319Z",
     "iopub.status.idle": "2021-08-24T14:27:26.851192Z",
     "shell.execute_reply": "2021-08-24T14:27:26.850099Z",
     "shell.execute_reply.started": "2021-08-24T14:27:26.842547Z"
    },
    "trusted": true
   },
   "outputs": [],
   "source": [
    "data[\"Conductivity\"].describe()"
   ]
  },
  {
   "cell_type": "code",
   "execution_count": null,
   "metadata": {
    "execution": {
     "iopub.execute_input": "2021-08-24T14:27:26.852682Z",
     "iopub.status.busy": "2021-08-24T14:27:26.852369Z",
     "iopub.status.idle": "2021-08-24T14:27:27.129830Z",
     "shell.execute_reply": "2021-08-24T14:27:27.128791Z",
     "shell.execute_reply.started": "2021-08-24T14:27:26.852656Z"
    },
    "trusted": true
   },
   "outputs": [],
   "source": [
    "plt.figure(figsize = (16, 7))\n",
    "sns.distplot(data['Conductivity'])\n",
    "plt.title('Distribution Plot of Conductivity\\n', fontsize =  20)\n",
    "plt.show()"
   ]
  },
  {
   "cell_type": "code",
   "execution_count": null,
   "metadata": {
    "execution": {
     "iopub.execute_input": "2021-08-24T14:27:27.131385Z",
     "iopub.status.busy": "2021-08-24T14:27:27.131118Z",
     "iopub.status.idle": "2021-08-24T14:27:27.214430Z",
     "shell.execute_reply": "2021-08-24T14:27:27.213595Z",
     "shell.execute_reply.started": "2021-08-24T14:27:27.131359Z"
    },
    "trusted": true
   },
   "outputs": [],
   "source": [
    "fig = px.bar(data, x=range(data['Conductivity'].count()),\n",
    "             y=sorted(data['Conductivity']), labels={\n",
    "                     'x': \"Count\",\n",
    "                     'y': \"Conductivity\",\n",
    "                     'color':'Potability'\n",
    "                     \n",
    "                 },\n",
    "             color=data['Potability']\n",
    "             ,template = 'plotly_dark')\n",
    "fig.update_layout(title='Conductivity wrt Potability')\n",
    "fig.show() "
   ]
  },
  {
   "cell_type": "code",
   "execution_count": null,
   "metadata": {
    "execution": {
     "iopub.execute_input": "2021-08-24T14:27:27.215832Z",
     "iopub.status.busy": "2021-08-24T14:27:27.215555Z",
     "iopub.status.idle": "2021-08-24T14:27:27.308638Z",
     "shell.execute_reply": "2021-08-24T14:27:27.307628Z",
     "shell.execute_reply.started": "2021-08-24T14:27:27.215804Z"
    },
    "trusted": true
   },
   "outputs": [],
   "source": [
    "\n",
    "group_labels = ['distplot'] # name of the dataset\n",
    "\n",
    "fig = ff.create_distplot([data['Conductivity']], group_labels)\n",
    "fig.show()"
   ]
  },
  {
   "cell_type": "markdown",
   "metadata": {},
   "source": [
    "# Organic_carbon"
   ]
  },
  {
   "cell_type": "code",
   "execution_count": null,
   "metadata": {
    "execution": {
     "iopub.execute_input": "2021-08-24T14:27:27.310485Z",
     "iopub.status.busy": "2021-08-24T14:27:27.310096Z",
     "iopub.status.idle": "2021-08-24T14:27:27.322113Z",
     "shell.execute_reply": "2021-08-24T14:27:27.321162Z",
     "shell.execute_reply.started": "2021-08-24T14:27:27.310442Z"
    },
    "trusted": true
   },
   "outputs": [],
   "source": [
    "data['Organic_carbon'].describe()"
   ]
  },
  {
   "cell_type": "code",
   "execution_count": null,
   "metadata": {
    "execution": {
     "iopub.execute_input": "2021-08-24T14:27:27.325222Z",
     "iopub.status.busy": "2021-08-24T14:27:27.324971Z",
     "iopub.status.idle": "2021-08-24T14:27:27.403420Z",
     "shell.execute_reply": "2021-08-24T14:27:27.402788Z",
     "shell.execute_reply.started": "2021-08-24T14:27:27.325198Z"
    },
    "trusted": true
   },
   "outputs": [],
   "source": [
    "\n",
    "group_labels = ['Organic_carbon'] # name of the dataset\n",
    "\n",
    "fig = ff.create_distplot([data['Organic_carbon']], group_labels)\n",
    "fig.show()"
   ]
  },
  {
   "cell_type": "code",
   "execution_count": null,
   "metadata": {
    "execution": {
     "iopub.execute_input": "2021-08-24T14:27:27.404660Z",
     "iopub.status.busy": "2021-08-24T14:27:27.404328Z",
     "iopub.status.idle": "2021-08-24T14:27:27.479252Z",
     "shell.execute_reply": "2021-08-24T14:27:27.478663Z",
     "shell.execute_reply.started": "2021-08-24T14:27:27.404634Z"
    },
    "trusted": true
   },
   "outputs": [],
   "source": [
    "dt_5=data[data['Organic_carbon']<5]\n",
    "dt_5_10=data[(data['Organic_carbon']>5)&(data['Organic_carbon']<10)]\n",
    "dt_10_15=data[(data['Organic_carbon']>10)&(data['Organic_carbon']<15)]\n",
    "dt_15_20=data[(data['Organic_carbon']>15)&(data['Organic_carbon']<20)]\n",
    "dt_20_25=data[(data['Organic_carbon']>20)&(data['Organic_carbon']<25)]\n",
    "dt_25=data[(data['Organic_carbon']>25)]\n",
    "\n",
    "x_Age = ['5', '5-10', '10-15', '15-20', '25+']\n",
    "y_Age = [len(dt_5.values), len(dt_5_10.values), len(dt_10_15.values), len(dt_15_20.values),\n",
    "     len(dt_25.values)]\n",
    "\n",
    "px.bar(data_frame = data, x = x_Age, y = y_Age, color = x_Age, template = 'plotly_dark',\n",
    "       title = 'Number of passengers per Age group')"
   ]
  },
  {
   "cell_type": "code",
   "execution_count": null,
   "metadata": {
    "execution": {
     "iopub.execute_input": "2021-08-24T14:27:27.480585Z",
     "iopub.status.busy": "2021-08-24T14:27:27.480332Z",
     "iopub.status.idle": "2021-08-24T14:29:43.247317Z",
     "shell.execute_reply": "2021-08-24T14:29:43.246307Z",
     "shell.execute_reply.started": "2021-08-24T14:27:27.480562Z"
    },
    "trusted": true
   },
   "outputs": [],
   "source": [
    "sns.catplot(x = 'Organic_carbon', y = 'Organic_carbon', hue = 'Potability', data = data, kind = 'box',\n",
    "            height = 5, aspect = 2)\n",
    "plt.show()"
   ]
  },
  {
   "cell_type": "markdown",
   "metadata": {},
   "source": [
    "# Turbidity"
   ]
  },
  {
   "cell_type": "code",
   "execution_count": null,
   "metadata": {
    "execution": {
     "iopub.execute_input": "2021-08-24T14:29:43.248663Z",
     "iopub.status.busy": "2021-08-24T14:29:43.248415Z",
     "iopub.status.idle": "2021-08-24T14:29:43.258276Z",
     "shell.execute_reply": "2021-08-24T14:29:43.257040Z",
     "shell.execute_reply.started": "2021-08-24T14:29:43.248638Z"
    },
    "trusted": true
   },
   "outputs": [],
   "source": [
    "data['Turbidity'].describe()"
   ]
  },
  {
   "cell_type": "code",
   "execution_count": null,
   "metadata": {
    "execution": {
     "iopub.execute_input": "2021-08-24T14:29:43.259799Z",
     "iopub.status.busy": "2021-08-24T14:29:43.259505Z",
     "iopub.status.idle": "2021-08-24T14:29:43.338768Z",
     "shell.execute_reply": "2021-08-24T14:29:43.337862Z",
     "shell.execute_reply.started": "2021-08-24T14:29:43.259769Z"
    },
    "trusted": true
   },
   "outputs": [],
   "source": [
    "\n",
    "group_labels = ['Turbidity'] # name of the dataset\n",
    "\n",
    "fig = ff.create_distplot([data['Turbidity']], group_labels)\n",
    "fig.show()"
   ]
  },
  {
   "cell_type": "code",
   "execution_count": null,
   "metadata": {
    "execution": {
     "iopub.execute_input": "2021-08-24T14:29:43.340552Z",
     "iopub.status.busy": "2021-08-24T14:29:43.340033Z",
     "iopub.status.idle": "2021-08-24T14:29:43.346423Z",
     "shell.execute_reply": "2021-08-24T14:29:43.345426Z",
     "shell.execute_reply.started": "2021-08-24T14:29:43.340511Z"
    },
    "trusted": true
   },
   "outputs": [],
   "source": [
    "data['turbid_class']=data['Turbidity'].astype(int)"
   ]
  },
  {
   "cell_type": "code",
   "execution_count": null,
   "metadata": {
    "execution": {
     "iopub.execute_input": "2021-08-24T14:29:43.348109Z",
     "iopub.status.busy": "2021-08-24T14:29:43.347594Z",
     "iopub.status.idle": "2021-08-24T14:29:43.359427Z",
     "shell.execute_reply": "2021-08-24T14:29:43.358642Z",
     "shell.execute_reply.started": "2021-08-24T14:29:43.348067Z"
    },
    "trusted": true
   },
   "outputs": [],
   "source": [
    "data['turbid_class'].unique()"
   ]
  },
  {
   "cell_type": "code",
   "execution_count": null,
   "metadata": {
    "execution": {
     "iopub.execute_input": "2021-08-24T14:29:43.360846Z",
     "iopub.status.busy": "2021-08-24T14:29:43.360575Z",
     "iopub.status.idle": "2021-08-24T14:29:43.429217Z",
     "shell.execute_reply": "2021-08-24T14:29:43.428311Z",
     "shell.execute_reply.started": "2021-08-24T14:29:43.360822Z"
    },
    "trusted": true
   },
   "outputs": [],
   "source": [
    "px.scatter(data_frame = data, x = 'Turbidity', y = 'turbid_class', color = 'Potability', template = 'plotly_dark')"
   ]
  },
  {
   "cell_type": "code",
   "execution_count": null,
   "metadata": {
    "execution": {
     "iopub.execute_input": "2021-08-24T14:29:43.430979Z",
     "iopub.status.busy": "2021-08-24T14:29:43.430600Z",
     "iopub.status.idle": "2021-08-24T14:29:43.505569Z",
     "shell.execute_reply": "2021-08-24T14:29:43.504741Z",
     "shell.execute_reply.started": "2021-08-24T14:29:43.430942Z"
    },
    "trusted": true
   },
   "outputs": [],
   "source": [
    "fig = px.pie(data,\n",
    "             values=data['turbid_class'].value_counts(), \n",
    "             names=data['turbid_class'].value_counts().keys(),\n",
    "            )\n",
    "fig.update_layout(\n",
    "    title='turbid_class',\n",
    "    template = 'plotly_dark'\n",
    ")\n",
    "fig.show()"
   ]
  },
  {
   "cell_type": "code",
   "execution_count": null,
   "metadata": {
    "execution": {
     "iopub.execute_input": "2021-08-24T14:29:43.507029Z",
     "iopub.status.busy": "2021-08-24T14:29:43.506753Z",
     "iopub.status.idle": "2021-08-24T14:29:43.512175Z",
     "shell.execute_reply": "2021-08-24T14:29:43.511354Z",
     "shell.execute_reply.started": "2021-08-24T14:29:43.507003Z"
    },
    "trusted": true
   },
   "outputs": [],
   "source": [
    "data=data.drop(['turbid_class'],axis=1)"
   ]
  },
  {
   "cell_type": "markdown",
   "metadata": {},
   "source": [
    "# ph_random"
   ]
  },
  {
   "cell_type": "code",
   "execution_count": null,
   "metadata": {
    "execution": {
     "iopub.execute_input": "2021-08-24T14:29:43.513743Z",
     "iopub.status.busy": "2021-08-24T14:29:43.513331Z",
     "iopub.status.idle": "2021-08-24T14:29:43.532153Z",
     "shell.execute_reply": "2021-08-24T14:29:43.531187Z",
     "shell.execute_reply.started": "2021-08-24T14:29:43.513714Z"
    },
    "trusted": true
   },
   "outputs": [],
   "source": [
    "data['ph_random'].describe()"
   ]
  },
  {
   "cell_type": "code",
   "execution_count": null,
   "metadata": {
    "execution": {
     "iopub.execute_input": "2021-08-24T14:29:43.538470Z",
     "iopub.status.busy": "2021-08-24T14:29:43.538172Z",
     "iopub.status.idle": "2021-08-24T14:29:43.616376Z",
     "shell.execute_reply": "2021-08-24T14:29:43.615417Z",
     "shell.execute_reply.started": "2021-08-24T14:29:43.538438Z"
    },
    "trusted": true
   },
   "outputs": [],
   "source": [
    "\n",
    "group_labels = ['ph_random'] # name of the dataset\n",
    "\n",
    "fig = ff.create_distplot([data['ph_random']], group_labels)\n",
    "fig.show()"
   ]
  },
  {
   "cell_type": "code",
   "execution_count": null,
   "metadata": {
    "execution": {
     "iopub.execute_input": "2021-08-24T14:29:43.618670Z",
     "iopub.status.busy": "2021-08-24T14:29:43.618385Z",
     "iopub.status.idle": "2021-08-24T14:29:43.712441Z",
     "shell.execute_reply": "2021-08-24T14:29:43.711479Z",
     "shell.execute_reply.started": "2021-08-24T14:29:43.618641Z"
    },
    "trusted": true
   },
   "outputs": [],
   "source": [
    "px.histogram(data_frame = data, x = 'ph_random', nbins = 10, color = 'Potability', marginal = 'box',\n",
    "             template = 'plotly_dark')"
   ]
  },
  {
   "cell_type": "code",
   "execution_count": null,
   "metadata": {
    "execution": {
     "iopub.execute_input": "2021-08-24T14:29:43.713964Z",
     "iopub.status.busy": "2021-08-24T14:29:43.713642Z",
     "iopub.status.idle": "2021-08-24T14:29:43.827136Z",
     "shell.execute_reply": "2021-08-24T14:29:43.826236Z",
     "shell.execute_reply.started": "2021-08-24T14:29:43.713934Z"
    },
    "trusted": true
   },
   "outputs": [],
   "source": [
    "fig = px.scatter(data, sorted(data[\"ph_random\"]), range(data[\"ph_random\"].count()), color=\"Potability\", facet_col=\"Potability\", \n",
    "                 facet_row=\"Potability\")\n",
    "fig.show()"
   ]
  },
  {
   "cell_type": "markdown",
   "metadata": {},
   "source": [
    "# Sulfate_random"
   ]
  },
  {
   "cell_type": "code",
   "execution_count": null,
   "metadata": {
    "execution": {
     "iopub.execute_input": "2021-08-24T14:29:43.828509Z",
     "iopub.status.busy": "2021-08-24T14:29:43.828244Z",
     "iopub.status.idle": "2021-08-24T14:29:43.838264Z",
     "shell.execute_reply": "2021-08-24T14:29:43.837202Z",
     "shell.execute_reply.started": "2021-08-24T14:29:43.828482Z"
    },
    "trusted": true
   },
   "outputs": [],
   "source": [
    "data['Sulfate_random'].describe()"
   ]
  },
  {
   "cell_type": "code",
   "execution_count": null,
   "metadata": {
    "execution": {
     "iopub.execute_input": "2021-08-24T14:29:43.840225Z",
     "iopub.status.busy": "2021-08-24T14:29:43.839829Z",
     "iopub.status.idle": "2021-08-24T14:29:43.917932Z",
     "shell.execute_reply": "2021-08-24T14:29:43.916979Z",
     "shell.execute_reply.started": "2021-08-24T14:29:43.840183Z"
    },
    "trusted": true
   },
   "outputs": [],
   "source": [
    "group_labels = ['distplot'] # name of the dataset\n",
    "\n",
    "fig = ff.create_distplot([data['Sulfate_random']], group_labels)\n",
    "fig.show()"
   ]
  },
  {
   "cell_type": "code",
   "execution_count": null,
   "metadata": {
    "execution": {
     "iopub.execute_input": "2021-08-24T14:29:43.919290Z",
     "iopub.status.busy": "2021-08-24T14:29:43.919038Z",
     "iopub.status.idle": "2021-08-24T14:31:33.548301Z",
     "shell.execute_reply": "2021-08-24T14:31:33.546785Z",
     "shell.execute_reply.started": "2021-08-24T14:29:43.919265Z"
    },
    "trusted": true
   },
   "outputs": [],
   "source": [
    "sns.catplot(x = 'Sulfate_random', y = 'Sulfate_random', hue = 'Potability', data = data, kind = 'box',\n",
    "            height = 5, aspect = 2)\n",
    "plt.show()"
   ]
  },
  {
   "cell_type": "markdown",
   "metadata": {},
   "source": [
    "# Trihalomethanes_random"
   ]
  },
  {
   "cell_type": "code",
   "execution_count": null,
   "metadata": {
    "execution": {
     "iopub.execute_input": "2021-08-24T14:31:33.549648Z",
     "iopub.status.busy": "2021-08-24T14:31:33.549403Z",
     "iopub.status.idle": "2021-08-24T14:31:33.559083Z",
     "shell.execute_reply": "2021-08-24T14:31:33.558290Z",
     "shell.execute_reply.started": "2021-08-24T14:31:33.549623Z"
    },
    "trusted": true
   },
   "outputs": [],
   "source": [
    "data['Trihalomethanes_random'].describe()"
   ]
  },
  {
   "cell_type": "code",
   "execution_count": null,
   "metadata": {
    "execution": {
     "iopub.execute_input": "2021-08-24T14:31:33.560405Z",
     "iopub.status.busy": "2021-08-24T14:31:33.560133Z",
     "iopub.status.idle": "2021-08-24T14:31:33.641809Z",
     "shell.execute_reply": "2021-08-24T14:31:33.640923Z",
     "shell.execute_reply.started": "2021-08-24T14:31:33.560378Z"
    },
    "trusted": true
   },
   "outputs": [],
   "source": [
    "\n",
    "group_labels = ['Trihalomethanes_random'] # name of the dataset\n",
    "\n",
    "fig = ff.create_distplot([data['Trihalomethanes_random']], group_labels)\n",
    "fig.show()"
   ]
  },
  {
   "cell_type": "code",
   "execution_count": null,
   "metadata": {
    "execution": {
     "iopub.execute_input": "2021-08-24T14:31:33.643534Z",
     "iopub.status.busy": "2021-08-24T14:31:33.643176Z",
     "iopub.status.idle": "2021-08-24T14:31:33.703888Z",
     "shell.execute_reply": "2021-08-24T14:31:33.703014Z",
     "shell.execute_reply.started": "2021-08-24T14:31:33.643496Z"
    },
    "trusted": true
   },
   "outputs": [],
   "source": [
    "fig = px.box(x = 'Trihalomethanes_random', data_frame = data, template = 'plotly_dark')\n",
    "fig.update_layout(title='Trihalomethanes_random')\n",
    "fig.show()"
   ]
  },
  {
   "cell_type": "code",
   "execution_count": null,
   "metadata": {
    "execution": {
     "iopub.execute_input": "2021-08-24T14:31:33.705318Z",
     "iopub.status.busy": "2021-08-24T14:31:33.704979Z",
     "iopub.status.idle": "2021-08-24T14:31:33.778855Z",
     "shell.execute_reply": "2021-08-24T14:31:33.778108Z",
     "shell.execute_reply.started": "2021-08-24T14:31:33.705290Z"
    },
    "trusted": true
   },
   "outputs": [],
   "source": [
    "fig = px.line(x=range(data['Trihalomethanes_random'].count()), y=sorted(data['Trihalomethanes_random']),color=data['Potability'], labels={\n",
    "                     'x': \"Count\",\n",
    "                     'y': \"Trihalomethanes\",\n",
    "                     'color':'Potability'\n",
    "                     \n",
    "                 }, template = 'plotly_dark')\n",
    "fig.update_layout(title='Trihalomethane wrt Potability')\n",
    "fig.show()"
   ]
  },
  {
   "cell_type": "markdown",
   "metadata": {},
   "source": [
    "# Potability"
   ]
  },
  {
   "cell_type": "code",
   "execution_count": null,
   "metadata": {
    "execution": {
     "iopub.execute_input": "2021-08-24T14:31:33.780383Z",
     "iopub.status.busy": "2021-08-24T14:31:33.780061Z",
     "iopub.status.idle": "2021-08-24T14:31:33.789885Z",
     "shell.execute_reply": "2021-08-24T14:31:33.788669Z",
     "shell.execute_reply.started": "2021-08-24T14:31:33.780355Z"
    },
    "trusted": true
   },
   "outputs": [],
   "source": [
    "data['Potability'].describe()"
   ]
  },
  {
   "cell_type": "code",
   "execution_count": null,
   "metadata": {
    "execution": {
     "iopub.execute_input": "2021-08-24T14:31:33.792046Z",
     "iopub.status.busy": "2021-08-24T14:31:33.791574Z",
     "iopub.status.idle": "2021-08-24T14:31:33.882719Z",
     "shell.execute_reply": "2021-08-24T14:31:33.881756Z",
     "shell.execute_reply.started": "2021-08-24T14:31:33.792008Z"
    },
    "trusted": true
   },
   "outputs": [],
   "source": [
    "px.histogram(data_frame = data, x = 'Potability', color = 'Potability', marginal = 'box',\n",
    "             template = 'plotly_dark')"
   ]
  },
  {
   "cell_type": "code",
   "execution_count": null,
   "metadata": {
    "execution": {
     "iopub.execute_input": "2021-08-24T14:31:33.884822Z",
     "iopub.status.busy": "2021-08-24T14:31:33.884381Z",
     "iopub.status.idle": "2021-08-24T14:31:33.947696Z",
     "shell.execute_reply": "2021-08-24T14:31:33.946977Z",
     "shell.execute_reply.started": "2021-08-24T14:31:33.884782Z"
    },
    "trusted": true
   },
   "outputs": [],
   "source": [
    "fig = px.pie(data,\n",
    "             values=data['Potability'].value_counts(), \n",
    "             names=data['Potability'].value_counts().keys(),\n",
    "            )\n",
    "fig.update_layout(\n",
    "    title='Potability',\n",
    "    template = 'plotly_dark'\n",
    ")\n",
    "fig.show()"
   ]
  },
  {
   "cell_type": "markdown",
   "metadata": {},
   "source": [
    "# Data Preprocessing"
   ]
  },
  {
   "cell_type": "code",
   "execution_count": null,
   "metadata": {
    "execution": {
     "iopub.execute_input": "2021-08-24T14:31:33.949165Z",
     "iopub.status.busy": "2021-08-24T14:31:33.948887Z",
     "iopub.status.idle": "2021-08-24T14:31:34.099497Z",
     "shell.execute_reply": "2021-08-24T14:31:34.098721Z",
     "shell.execute_reply.started": "2021-08-24T14:31:33.949111Z"
    },
    "trusted": true
   },
   "outputs": [],
   "source": [
    "from sklearn.preprocessing import StandardScaler\n",
    "from sklearn.model_selection import train_test_split"
   ]
  },
  {
   "cell_type": "code",
   "execution_count": null,
   "metadata": {
    "execution": {
     "iopub.execute_input": "2021-08-24T14:31:34.100942Z",
     "iopub.status.busy": "2021-08-24T14:31:34.100676Z",
     "iopub.status.idle": "2021-08-24T14:31:34.105478Z",
     "shell.execute_reply": "2021-08-24T14:31:34.104711Z",
     "shell.execute_reply.started": "2021-08-24T14:31:34.100917Z"
    },
    "trusted": true
   },
   "outputs": [],
   "source": [
    "X=data.drop(['Potability'],axis=1)\n",
    "y=data['Potability']"
   ]
  },
  {
   "cell_type": "markdown",
   "metadata": {},
   "source": [
    "Since the data is not in a uniform shape, we scale the data using standard scalar"
   ]
  },
  {
   "cell_type": "code",
   "execution_count": null,
   "metadata": {
    "execution": {
     "iopub.execute_input": "2021-08-24T14:31:34.107015Z",
     "iopub.status.busy": "2021-08-24T14:31:34.106745Z",
     "iopub.status.idle": "2021-08-24T14:31:34.121513Z",
     "shell.execute_reply": "2021-08-24T14:31:34.120534Z",
     "shell.execute_reply.started": "2021-08-24T14:31:34.106991Z"
    },
    "trusted": true
   },
   "outputs": [],
   "source": [
    "scaler = StandardScaler()\n",
    "x=scaler.fit_transform(X)"
   ]
  },
  {
   "cell_type": "code",
   "execution_count": null,
   "metadata": {
    "execution": {
     "iopub.execute_input": "2021-08-24T14:31:34.123241Z",
     "iopub.status.busy": "2021-08-24T14:31:34.122909Z",
     "iopub.status.idle": "2021-08-24T14:31:34.131768Z",
     "shell.execute_reply": "2021-08-24T14:31:34.130902Z",
     "shell.execute_reply.started": "2021-08-24T14:31:34.123215Z"
    },
    "trusted": true
   },
   "outputs": [],
   "source": [
    "# split the data to train and test set\n",
    "x_train,x_test,y_train,y_test = train_test_split(x,y,train_size=0.85,random_state=42)\n",
    "\n",
    "\n",
    "print(\"training data shape:-{} labels{} \".format(x_train.shape,y_train.shape))\n",
    "print(\"testing data shape:-{} labels{} \".format(x_test.shape,y_test.shape))"
   ]
  },
  {
   "cell_type": "markdown",
   "metadata": {},
   "source": [
    "# Modeling"
   ]
  },
  {
   "cell_type": "markdown",
   "metadata": {},
   "source": [
    "### Logistic Regression"
   ]
  },
  {
   "cell_type": "code",
   "execution_count": null,
   "metadata": {
    "execution": {
     "iopub.execute_input": "2021-08-24T14:31:34.133253Z",
     "iopub.status.busy": "2021-08-24T14:31:34.132949Z",
     "iopub.status.idle": "2021-08-24T14:31:34.236778Z",
     "shell.execute_reply": "2021-08-24T14:31:34.235759Z",
     "shell.execute_reply.started": "2021-08-24T14:31:34.133227Z"
    },
    "trusted": true
   },
   "outputs": [],
   "source": [
    "from sklearn.linear_model import LogisticRegression\n",
    "log = LogisticRegression(random_state=0).fit(x_train, y_train)\n",
    "log.score(x_test, y_test)"
   ]
  },
  {
   "cell_type": "code",
   "execution_count": null,
   "metadata": {
    "execution": {
     "iopub.execute_input": "2021-08-24T14:31:34.238753Z",
     "iopub.status.busy": "2021-08-24T14:31:34.238190Z",
     "iopub.status.idle": "2021-08-24T14:31:34.380240Z",
     "shell.execute_reply": "2021-08-24T14:31:34.379283Z",
     "shell.execute_reply.started": "2021-08-24T14:31:34.238695Z"
    },
    "trusted": true
   },
   "outputs": [],
   "source": [
    "#  Confusion matrix\n",
    "from sklearn.metrics import confusion_matrix\n",
    "# Make Predictions\n",
    "pred1=log.predict(np.array(x_test))\n",
    "plt.title(\"Confusion Matrix testing data\")\n",
    "sns.heatmap(confusion_matrix(y_test,pred1),annot=True,cbar=False)\n",
    "plt.legend()\n",
    "plt.show()"
   ]
  },
  {
   "cell_type": "markdown",
   "metadata": {},
   "source": [
    "### K Nearest Neighbours"
   ]
  },
  {
   "cell_type": "code",
   "execution_count": null,
   "metadata": {
    "execution": {
     "iopub.execute_input": "2021-08-24T14:31:34.382171Z",
     "iopub.status.busy": "2021-08-24T14:31:34.381620Z",
     "iopub.status.idle": "2021-08-24T14:31:34.447269Z",
     "shell.execute_reply": "2021-08-24T14:31:34.446445Z",
     "shell.execute_reply.started": "2021-08-24T14:31:34.382122Z"
    },
    "trusted": true
   },
   "outputs": [],
   "source": [
    "from sklearn.neighbors import KNeighborsClassifier"
   ]
  },
  {
   "cell_type": "code",
   "execution_count": null,
   "metadata": {
    "execution": {
     "iopub.execute_input": "2021-08-24T14:31:34.450579Z",
     "iopub.status.busy": "2021-08-24T14:31:34.450321Z",
     "iopub.status.idle": "2021-08-24T14:31:34.492091Z",
     "shell.execute_reply": "2021-08-24T14:31:34.491209Z",
     "shell.execute_reply.started": "2021-08-24T14:31:34.450553Z"
    },
    "trusted": true
   },
   "outputs": [],
   "source": [
    "knn = KNeighborsClassifier(n_neighbors=2)\n",
    "# Train the model using the training sets\n",
    "knn.fit(x_train,y_train)\n",
    "\n",
    "#Predict Output\n",
    "predicted= knn.predict(x_test) # 0:Overcast, 2:Mild\n"
   ]
  },
  {
   "cell_type": "code",
   "execution_count": null,
   "metadata": {
    "execution": {
     "iopub.execute_input": "2021-08-24T14:31:34.493501Z",
     "iopub.status.busy": "2021-08-24T14:31:34.493246Z",
     "iopub.status.idle": "2021-08-24T14:31:34.646431Z",
     "shell.execute_reply": "2021-08-24T14:31:34.645392Z",
     "shell.execute_reply.started": "2021-08-24T14:31:34.493475Z"
    },
    "trusted": true
   },
   "outputs": [],
   "source": [
    "#  Confusion matrix\n",
    "from sklearn.metrics import confusion_matrix\n",
    "# Make Predictions\n",
    "pred1=knn.predict(np.array(x_test))\n",
    "plt.title(\"Confusion Matrix testing data\")\n",
    "sns.heatmap(confusion_matrix(y_test,pred1),annot=True,cbar=False)\n",
    "plt.legend()\n",
    "plt.show()"
   ]
  },
  {
   "cell_type": "markdown",
   "metadata": {
    "execution": {
     "iopub.execute_input": "2021-08-24T13:32:16.825200Z",
     "iopub.status.busy": "2021-08-24T13:32:16.824819Z",
     "iopub.status.idle": "2021-08-24T13:32:16.831295Z",
     "shell.execute_reply": "2021-08-24T13:32:16.830492Z",
     "shell.execute_reply.started": "2021-08-24T13:32:16.825147Z"
    }
   },
   "source": [
    "### SVM"
   ]
  },
  {
   "cell_type": "code",
   "execution_count": null,
   "metadata": {
    "execution": {
     "iopub.execute_input": "2021-08-24T14:31:34.648447Z",
     "iopub.status.busy": "2021-08-24T14:31:34.648055Z",
     "iopub.status.idle": "2021-08-24T14:31:34.653364Z",
     "shell.execute_reply": "2021-08-24T14:31:34.652206Z",
     "shell.execute_reply.started": "2021-08-24T14:31:34.648408Z"
    },
    "trusted": true
   },
   "outputs": [],
   "source": [
    "from sklearn import svm\n",
    "from sklearn.metrics import accuracy_score"
   ]
  },
  {
   "cell_type": "code",
   "execution_count": null,
   "metadata": {
    "execution": {
     "iopub.execute_input": "2021-08-24T14:31:34.655359Z",
     "iopub.status.busy": "2021-08-24T14:31:34.654927Z",
     "iopub.status.idle": "2021-08-24T14:31:35.028742Z",
     "shell.execute_reply": "2021-08-24T14:31:35.027895Z",
     "shell.execute_reply.started": "2021-08-24T14:31:34.655320Z"
    },
    "trusted": true
   },
   "outputs": [],
   "source": [
    "svmc = svm.SVC()\n",
    "svmc.fit(x_train, y_train)\n",
    "\n",
    "y_pred = svmc.predict(x_test)\n",
    "print(accuracy_score(y_test,y_pred))"
   ]
  },
  {
   "cell_type": "code",
   "execution_count": null,
   "metadata": {
    "execution": {
     "iopub.execute_input": "2021-08-24T14:31:35.030454Z",
     "iopub.status.busy": "2021-08-24T14:31:35.030054Z",
     "iopub.status.idle": "2021-08-24T14:31:35.194789Z",
     "shell.execute_reply": "2021-08-24T14:31:35.193717Z",
     "shell.execute_reply.started": "2021-08-24T14:31:35.030411Z"
    },
    "trusted": true
   },
   "outputs": [],
   "source": [
    "#  Confusion matrix\n",
    "from sklearn.metrics import confusion_matrix\n",
    "# Make Predictions\n",
    "pred1=svmc.predict(np.array(x_test))\n",
    "plt.title(\"Confusion Matrix testing data\")\n",
    "sns.heatmap(confusion_matrix(y_test,pred1),annot=True,cbar=False)\n",
    "plt.legend()\n",
    "plt.show()"
   ]
  },
  {
   "cell_type": "markdown",
   "metadata": {},
   "source": [
    "### Decision Tree"
   ]
  },
  {
   "cell_type": "code",
   "execution_count": null,
   "metadata": {
    "execution": {
     "iopub.execute_input": "2021-08-24T14:31:35.197122Z",
     "iopub.status.busy": "2021-08-24T14:31:35.196423Z",
     "iopub.status.idle": "2021-08-24T14:31:35.228697Z",
     "shell.execute_reply": "2021-08-24T14:31:35.227992Z",
     "shell.execute_reply.started": "2021-08-24T14:31:35.197076Z"
    },
    "trusted": true
   },
   "outputs": [],
   "source": [
    "from sklearn import tree\n",
    "from sklearn.metrics import accuracy_score"
   ]
  },
  {
   "cell_type": "code",
   "execution_count": null,
   "metadata": {
    "execution": {
     "iopub.execute_input": "2021-08-24T14:31:35.230204Z",
     "iopub.status.busy": "2021-08-24T14:31:35.229771Z",
     "iopub.status.idle": "2021-08-24T14:31:35.273831Z",
     "shell.execute_reply": "2021-08-24T14:31:35.272917Z",
     "shell.execute_reply.started": "2021-08-24T14:31:35.230174Z"
    },
    "trusted": true
   },
   "outputs": [],
   "source": [
    "tre = tree.DecisionTreeClassifier()\n",
    "tre = tre.fit(x_train, y_train)\n",
    "\n",
    "y_pred = tre.predict(x_test)\n",
    "print(accuracy_score(y_test,y_pred))"
   ]
  },
  {
   "cell_type": "code",
   "execution_count": null,
   "metadata": {
    "execution": {
     "iopub.execute_input": "2021-08-24T14:31:35.275180Z",
     "iopub.status.busy": "2021-08-24T14:31:35.274914Z",
     "iopub.status.idle": "2021-08-24T14:31:35.414115Z",
     "shell.execute_reply": "2021-08-24T14:31:35.412853Z",
     "shell.execute_reply.started": "2021-08-24T14:31:35.275155Z"
    },
    "trusted": true
   },
   "outputs": [],
   "source": [
    "#  Confusion matrix\n",
    "from sklearn.metrics import confusion_matrix\n",
    "# Make Predictions\n",
    "pred1=tre.predict(np.array(x_test))\n",
    "plt.title(\"Confusion Matrix testing data\")\n",
    "sns.heatmap(confusion_matrix(y_test,pred1),annot=True,cbar=False)\n",
    "plt.legend()\n",
    "plt.show()"
   ]
  },
  {
   "cell_type": "markdown",
   "metadata": {},
   "source": [
    "### Random Forest"
   ]
  },
  {
   "cell_type": "code",
   "execution_count": null,
   "metadata": {
    "execution": {
     "iopub.execute_input": "2021-08-24T14:31:35.416308Z",
     "iopub.status.busy": "2021-08-24T14:31:35.415878Z",
     "iopub.status.idle": "2021-08-24T14:31:35.448325Z",
     "shell.execute_reply": "2021-08-24T14:31:35.447541Z",
     "shell.execute_reply.started": "2021-08-24T14:31:35.416266Z"
    },
    "trusted": true
   },
   "outputs": [],
   "source": [
    "from sklearn.ensemble import RandomForestClassifier\n",
    "from sklearn.metrics import accuracy_score"
   ]
  },
  {
   "cell_type": "code",
   "execution_count": null,
   "metadata": {
    "execution": {
     "iopub.execute_input": "2021-08-24T14:31:35.449764Z",
     "iopub.status.busy": "2021-08-24T14:31:35.449497Z",
     "iopub.status.idle": "2021-08-24T14:31:40.524760Z",
     "shell.execute_reply": "2021-08-24T14:31:40.523899Z",
     "shell.execute_reply.started": "2021-08-24T14:31:35.449737Z"
    },
    "trusted": true
   },
   "outputs": [],
   "source": [
    "# create the model\n",
    "model_rf = RandomForestClassifier(n_estimators=500, oob_score=True, random_state=100)\n",
    "\n",
    "\n",
    "# fitting the model\n",
    "model_rf=model_rf.fit(x_train, y_train) \n",
    "\n",
    "y_pred = model_rf.predict(x_test)\n",
    "print(accuracy_score(y_test,y_pred))"
   ]
  },
  {
   "cell_type": "code",
   "execution_count": null,
   "metadata": {
    "execution": {
     "iopub.execute_input": "2021-08-24T14:31:40.526356Z",
     "iopub.status.busy": "2021-08-24T14:31:40.525998Z",
     "iopub.status.idle": "2021-08-24T14:31:40.745642Z",
     "shell.execute_reply": "2021-08-24T14:31:40.744454Z",
     "shell.execute_reply.started": "2021-08-24T14:31:40.526316Z"
    },
    "trusted": true
   },
   "outputs": [],
   "source": [
    "#  Confusion matrix\n",
    "from sklearn.metrics import confusion_matrix\n",
    "# Make Predictions\n",
    "pred1=model_rf.predict(np.array(x_test))\n",
    "plt.title(\"Confusion Matrix testing data\")\n",
    "sns.heatmap(confusion_matrix(y_test,pred1),annot=True,cbar=False)\n",
    "plt.legend()\n",
    "plt.show()"
   ]
  },
  {
   "cell_type": "markdown",
   "metadata": {},
   "source": [
    "### XG Boost"
   ]
  },
  {
   "cell_type": "code",
   "execution_count": null,
   "metadata": {
    "execution": {
     "iopub.execute_input": "2021-08-24T14:31:40.747667Z",
     "iopub.status.busy": "2021-08-24T14:31:40.747270Z",
     "iopub.status.idle": "2021-08-24T14:31:40.880279Z",
     "shell.execute_reply": "2021-08-24T14:31:40.879492Z",
     "shell.execute_reply.started": "2021-08-24T14:31:40.747621Z"
    },
    "trusted": true
   },
   "outputs": [],
   "source": [
    "from xgboost import XGBClassifier\n",
    "from sklearn.metrics import r2_score\n",
    "\n",
    "xgb = XGBClassifier(colsample_bylevel= 0.9,\n",
    "                    colsample_bytree = 0.8, \n",
    "                    gamma=0.99,\n",
    "                    max_depth= 5,\n",
    "                    min_child_weight= 1,\n",
    "                    n_estimators= 8,\n",
    "                    nthread= 5,\n",
    "                    random_state= 0,\n",
    "                    )\n",
    "xgb.fit(x_train,y_train)"
   ]
  },
  {
   "cell_type": "code",
   "execution_count": null,
   "metadata": {
    "execution": {
     "iopub.execute_input": "2021-08-24T14:31:40.881553Z",
     "iopub.status.busy": "2021-08-24T14:31:40.881312Z",
     "iopub.status.idle": "2021-08-24T14:31:40.894371Z",
     "shell.execute_reply": "2021-08-24T14:31:40.893553Z",
     "shell.execute_reply.started": "2021-08-24T14:31:40.881529Z"
    },
    "trusted": true
   },
   "outputs": [],
   "source": [
    "print('Accuracy of XGBoost classifier on training set: {:.2f}'\n",
    "     .format(xgb.score(x_train, y_train)))\n",
    "print('Accuracy of XGBoost classifier on test set: {:.2f}'\n",
    "     .format(xgb.score(x_test, y_test)))"
   ]
  },
  {
   "cell_type": "code",
   "execution_count": null,
   "metadata": {
    "execution": {
     "iopub.execute_input": "2021-08-24T14:31:40.895944Z",
     "iopub.status.busy": "2021-08-24T14:31:40.895641Z",
     "iopub.status.idle": "2021-08-24T14:31:41.143759Z",
     "shell.execute_reply": "2021-08-24T14:31:41.142837Z",
     "shell.execute_reply.started": "2021-08-24T14:31:40.895917Z"
    },
    "trusted": true
   },
   "outputs": [],
   "source": [
    "from sklearn.metrics import confusion_matrix\n",
    "\n",
    "conf_matrix = confusion_matrix(y_true=y_test, y_pred=y_pred)\n",
    "plt.figure(figsize = (15, 8))\n",
    "sns.set(font_scale=1.4) # for label size\n",
    "sns.heatmap(conf_matrix, annot=True, annot_kws={\"size\": 16},cbar=False, linewidths = 1) # font size\n",
    "plt.title(\"Test Confusion Matrix\")\n",
    "plt.xlabel(\"Predicted class\")\n",
    "plt.ylabel(\"Actual class\")\n",
    "plt.savefig('conf_test.png')\n",
    "plt.show()"
   ]
  },
  {
   "cell_type": "markdown",
   "metadata": {},
   "source": [
    "### SVM tuned"
   ]
  },
  {
   "cell_type": "code",
   "execution_count": null,
   "metadata": {
    "execution": {
     "iopub.execute_input": "2021-08-24T14:31:41.145347Z",
     "iopub.status.busy": "2021-08-24T14:31:41.144999Z",
     "iopub.status.idle": "2021-08-24T14:32:32.559997Z",
     "shell.execute_reply": "2021-08-24T14:32:32.559091Z",
     "shell.execute_reply.started": "2021-08-24T14:31:41.145317Z"
    },
    "trusted": true
   },
   "outputs": [],
   "source": [
    "from sklearn.svm import SVC\n",
    "from sklearn.model_selection import GridSearchCV\n",
    "svc=SVC()\n",
    "param_grid={'C':[1.2,1.5,2.2,3.5,3.2,4.1],'kernel':['linear', 'poly', 'rbf', 'sigmoid'],'degree':[1,2,4,8,10],'gamma':['scale','auto']}\n",
    "gridsearch=GridSearchCV(svc,param_grid=param_grid,n_jobs=-1,verbose=4,cv=3)\n",
    "gridsearch.fit(x_train,y_train)"
   ]
  },
  {
   "cell_type": "code",
   "execution_count": null,
   "metadata": {
    "execution": {
     "iopub.execute_input": "2021-08-24T14:32:32.561563Z",
     "iopub.status.busy": "2021-08-24T14:32:32.561315Z",
     "iopub.status.idle": "2021-08-24T14:32:32.836070Z",
     "shell.execute_reply": "2021-08-24T14:32:32.835236Z",
     "shell.execute_reply.started": "2021-08-24T14:32:32.561537Z"
    },
    "trusted": true
   },
   "outputs": [],
   "source": [
    "y_pred=gridsearch.predict(x_test)\n",
    "from sklearn.metrics import confusion_matrix\n",
    "\n",
    "conf_matrix = confusion_matrix(y_true=y_test, y_pred=y_pred)\n",
    "plt.figure(figsize = (15, 8))\n",
    "sns.set(font_scale=1.4) # for label size\n",
    "sns.heatmap(conf_matrix, annot=True, annot_kws={\"size\": 16},cbar=False, linewidths = 1) # font size\n",
    "plt.title(\"Test Confusion Matrix\")\n",
    "plt.xlabel(\"Predicted class\")\n",
    "plt.ylabel(\"Actual class\")\n",
    "plt.savefig('conf_test.png')\n",
    "plt.show()"
   ]
  }
 ],
 "metadata": {
  "kernelspec": {
   "display_name": "Python 3",
   "language": "python",
   "name": "python3"
  },
  "language_info": {
   "codemirror_mode": {
    "name": "ipython",
    "version": 3
   },
   "file_extension": ".py",
   "mimetype": "text/x-python",
   "name": "python",
   "nbconvert_exporter": "python",
   "pygments_lexer": "ipython3",
   "version": "3.13.3"
  }
 },
 "nbformat": 4,
 "nbformat_minor": 4
}
